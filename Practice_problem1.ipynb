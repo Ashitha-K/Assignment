{
  "nbformat": 4,
  "nbformat_minor": 0,
  "metadata": {
    "colab": {
      "provenance": [],
      "authorship_tag": "ABX9TyMksw7ZfSwRtDiaqLqS1kfi",
      "include_colab_link": true
    },
    "kernelspec": {
      "name": "python3",
      "display_name": "Python 3"
    },
    "language_info": {
      "name": "python"
    }
  },
  "cells": [
    {
      "cell_type": "markdown",
      "metadata": {
        "id": "view-in-github",
        "colab_type": "text"
      },
      "source": [
        "<a href=\"https://colab.research.google.com/github/Ashitha-K/Assignment/blob/main/Practice_problem1.ipynb\" target=\"_parent\"><img src=\"https://colab.research.google.com/assets/colab-badge.svg\" alt=\"Open In Colab\"/></a>"
      ]
    },
    {
      "cell_type": "code",
      "execution_count": null,
      "metadata": {
        "id": "EyNKExHFWBZO"
      },
      "outputs": [],
      "source": []
    },
    {
      "cell_type": "code",
      "source": [
        "#Practice problem 1"
      ],
      "metadata": {
        "id": "jo1QiDAoBdq6"
      },
      "execution_count": null,
      "outputs": []
    },
    {
      "cell_type": "code",
      "source": [
        "'''\n",
        "1. Write a Python program which accepts the radius of a circle from the user\n",
        "and compute the area.\n",
        "Sample input: Enter the radius: 3\n",
        "Sample output: Area of Circle is 28.59999999999\n",
        "'''\n",
        "radius = float(input(\"Enter the radius: \"))\n",
        "pi=3.14159\n",
        "area =pi * radius ** 2\n",
        "print(f\"Area of the circle with radius {radius} ={area:.2f}\")"
      ],
      "metadata": {
        "colab": {
          "base_uri": "https://localhost:8080/"
        },
        "id": "rX-Z9HuDYjpD",
        "outputId": "db65d373-b983-407f-e344-69dc3c872c81"
      },
      "execution_count": null,
      "outputs": [
        {
          "output_type": "stream",
          "name": "stdout",
          "text": [
            "Enter the radius: 3\n",
            "Area of the circle with radius 3.0 =28.27\n"
          ]
        }
      ]
    },
    {
      "cell_type": "code",
      "source": [
        "'''\n",
        "2. Write a Python Program to accept the details of a student like name, roll\n",
        "number and mark and display it.\n",
        "Sample input: Enter the name: Anisha\n",
        "Enter the roll number: 21\n",
        "Enter the mark: 78\n",
        "Sample output: Name: Anisha\n",
        "Roll No: 21\n",
        "Mark: 78\n",
        "'''\n",
        "\n",
        "Name=input(\"Enter the name \")\n",
        "print(\"Name \", Name)\n",
        "Roll_no=input(\"Enter the roll number \")\n",
        "print(\"Roll No \", Roll_no)\n",
        "Mark=input(\"Enter the mark \")\n",
        "print(\"Mark \",Mark)"
      ],
      "metadata": {
        "colab": {
          "base_uri": "https://localhost:8080/"
        },
        "id": "mPChHzPyZtYq",
        "outputId": "e1ccdbdb-4a72-4f13-bcde-729c15bf9da6"
      },
      "execution_count": null,
      "outputs": [
        {
          "output_type": "stream",
          "name": "stdout",
          "text": [
            "Enter the name Anisha\n",
            "Name  Anisha\n",
            "Enter the roll number 21\n",
            "Roll No  21\n",
            "Enter the mark 78\n",
            "Mark  78\n"
          ]
        }
      ]
    },
    {
      "cell_type": "code",
      "source": [
        "'''\n",
        "3. Write a Python program to get the largest number from a list.\n",
        "Sample input: 12, 3, 47, 10\n",
        "Sample output: 47 is the largest number.\n",
        "'''\n",
        "\n",
        "l1=[12, 3, 47, 10]\n",
        "Largest_number=max(l1)\n",
        "print(Largest_number, \"is the largest number\")"
      ],
      "metadata": {
        "colab": {
          "base_uri": "https://localhost:8080/"
        },
        "id": "Q0HK2tZbaXA_",
        "outputId": "b03304e5-b887-40fc-9c18-a6f87e3b9e2f"
      },
      "execution_count": null,
      "outputs": [
        {
          "output_type": "stream",
          "name": "stdout",
          "text": [
            "47 is the largest number\n"
          ]
        }
      ]
    },
    {
      "cell_type": "code",
      "source": [
        "'''\n",
        "4.Given a range of first 10 numbers, write a Python program to iterate from\n",
        "start number to the end number and print the sum of the current number\n",
        "and previous number.\n",
        "Sample input: 1….10\n",
        "Sample output: Current Number 1 Previous Number 0 Sum: 1 Current\n",
        "Number 2 Previous Number 1 Sum: 3 Current Number 3 Previous\n",
        "Number 2 Sum: 5… Current Number 10 Previous Number 9 Sum: 19\n",
        "'''\n",
        "\n",
        "sum=0\n",
        "for i in range(1,11):\n",
        "  #previous_number=i-1\n",
        "  sum=i+i-1\n",
        "  print(\"current number=\",i)\n",
        "  print(\"Previous number=\",i-1)\n",
        "  print(\"sum=\",sum)"
      ],
      "metadata": {
        "colab": {
          "base_uri": "https://localhost:8080/"
        },
        "id": "maSlxqkpbbJI",
        "outputId": "5cd62304-44f0-4d54-bbc7-4449289c0bf4"
      },
      "execution_count": null,
      "outputs": [
        {
          "output_type": "stream",
          "name": "stdout",
          "text": [
            "current number= 1\n",
            "Previous number= 0\n",
            "sum= 1\n",
            "current number= 2\n",
            "Previous number= 1\n",
            "sum= 3\n",
            "current number= 3\n",
            "Previous number= 2\n",
            "sum= 5\n",
            "current number= 4\n",
            "Previous number= 3\n",
            "sum= 7\n",
            "current number= 5\n",
            "Previous number= 4\n",
            "sum= 9\n",
            "current number= 6\n",
            "Previous number= 5\n",
            "sum= 11\n",
            "current number= 7\n",
            "Previous number= 6\n",
            "sum= 13\n",
            "current number= 8\n",
            "Previous number= 7\n",
            "sum= 15\n",
            "current number= 9\n",
            "Previous number= 8\n",
            "sum= 17\n",
            "current number= 10\n",
            "Previous number= 9\n",
            "sum= 19\n"
          ]
        }
      ]
    },
    {
      "cell_type": "code",
      "source": [
        "'''\n",
        "Write a Python program to print only those numbers which are divisible\n",
        "of 5.\n",
        "Sample input: 10, 20,33,46,55 Sample output: 10, 20, 55\n",
        "'''\n",
        "\n",
        "l1=[10, 20,33,46,55]\n",
        "l2=[]\n",
        "for i in l1:\n",
        "  if(i%5==0):\n",
        "    #print(\"Number is divisible by 5\")\n",
        "    l2.append(i)\n",
        "print(l2)"
      ],
      "metadata": {
        "colab": {
          "base_uri": "https://localhost:8080/"
        },
        "id": "vMOBaH0AeA2b",
        "outputId": "d515d73a-200b-4138-8131-69d0797ffe6c"
      },
      "execution_count": null,
      "outputs": [
        {
          "output_type": "stream",
          "name": "stdout",
          "text": [
            "[10, 20, 55]\n"
          ]
        }
      ]
    },
    {
      "cell_type": "code",
      "source": [
        "'''\n",
        "6. Write a Python program to check whether a number is prime or not.\n",
        "Sample input: Enter the number: 3\n",
        "Sample output: 3 is a prime number.\n",
        "'''\n",
        "\n",
        "n=int(input(\"enter the number \"))\n",
        "if n>1:\n",
        "  for i in range(2,n):\n",
        "    if n%i==0:\n",
        "      print(n,\"not a prime numer\")\n",
        "      break\n",
        "  else:\n",
        "    print(n,\"is prime number\")\n",
        "else:\n",
        "  print(n,\"is not a prime number\")"
      ],
      "metadata": {
        "colab": {
          "base_uri": "https://localhost:8080/"
        },
        "id": "3MRKOSfzQ5ne",
        "outputId": "9aff1824-2cdc-4649-f7b7-a7b4e7aced7e"
      },
      "execution_count": null,
      "outputs": [
        {
          "output_type": "stream",
          "name": "stdout",
          "text": [
            "enter the number 3\n",
            "3 is prime number\n"
          ]
        }
      ]
    },
    {
      "cell_type": "code",
      "source": [
        "'''\n",
        "7. Write a Python program to reverse a list using for loop.\n",
        "Sample input: 10,40,30,70\n",
        "Sample output: 70,30,40,10\n",
        "'''\n",
        "\n",
        "l1=[10,40,30,70 ]\n",
        "l2=[]\n",
        "while len(l1)>0:\n",
        "  l=l1.pop()\n",
        "  l2.append(l)\n",
        "print(l2)"
      ],
      "metadata": {
        "colab": {
          "base_uri": "https://localhost:8080/"
        },
        "id": "kfUth2liRidH",
        "outputId": "ed5b753d-7dba-4f3d-f3a1-3afe4cece72a"
      },
      "execution_count": 1,
      "outputs": [
        {
          "output_type": "stream",
          "name": "stdout",
          "text": [
            "[70, 30, 40, 10]\n"
          ]
        }
      ]
    },
    {
      "cell_type": "code",
      "source": [
        "'''\n",
        "8. Write a Python program to print the following pattern.\n",
        "*\n",
        "**\n",
        "***\n",
        "****\n",
        "'''\n",
        "n = 4\n",
        "for i in range(1, n + 1):\n",
        "    for j in range(i):\n",
        "        print(\"*\", end=\"\")\n",
        "    print()  # Move to the next line after each row"
      ],
      "metadata": {
        "colab": {
          "base_uri": "https://localhost:8080/"
        },
        "id": "hDKXhWUTU68D",
        "outputId": "a6f9baf6-205b-4f8d-971b-6000ec8ed5f6"
      },
      "execution_count": null,
      "outputs": [
        {
          "output_type": "stream",
          "name": "stdout",
          "text": [
            "*\n",
            "**\n",
            "***\n",
            "****\n"
          ]
        }
      ]
    },
    {
      "cell_type": "code",
      "source": [
        "'''\n",
        "9. Write a Python program to construct the following pattern, using a\n",
        "nested for loop.\n",
        "*\n",
        "**\n",
        "***\n",
        "****\n",
        "*****\n",
        "****\n",
        "***\n",
        "**\n",
        "*\n",
        "'''\n",
        "\n",
        "n = 5\n",
        "for i in range(1, n + 1):\n",
        "    for j in range(i):\n",
        "        print(\"*\", end=\"\")\n",
        "    print()\n",
        "for i in range(n - 1, 0, -1):\n",
        "    for j in range(i):\n",
        "        print(\"*\", end=\"\")\n",
        "    print()"
      ],
      "metadata": {
        "colab": {
          "base_uri": "https://localhost:8080/"
        },
        "id": "4lmk7BRaVo6Q",
        "outputId": "e7d7d28a-1d05-4b8b-d2ed-7ef3bac2c564"
      },
      "execution_count": null,
      "outputs": [
        {
          "output_type": "stream",
          "name": "stdout",
          "text": [
            "*\n",
            "**\n",
            "***\n",
            "****\n",
            "*****\n",
            "****\n",
            "***\n",
            "**\n",
            "*\n"
          ]
        }
      ]
    },
    {
      "cell_type": "code",
      "source": [
        "'''\n",
        "10. Write a Python program to find the maximum of three numbers\n",
        "Sample input: 34,12,7\n",
        "Sample output: 34\n",
        "'''\n",
        "\n",
        "a=int((input(\"Enter the first number \")))\n",
        "b=int((input(\"Enter the second number \")))\n",
        "c=int((input(\"Enter the third number \")))\n",
        "if a>b and a>c:\n",
        "  print(a)\n",
        "elif b>a and b>c:\n",
        "  print(b)\n",
        "else:\n",
        "  print(c)"
      ],
      "metadata": {
        "colab": {
          "base_uri": "https://localhost:8080/"
        },
        "id": "gva1SgZJWObG",
        "outputId": "9032aa4e-8862-4b02-8e68-e493933f36b9"
      },
      "execution_count": null,
      "outputs": [
        {
          "output_type": "stream",
          "name": "stdout",
          "text": [
            "Enter the first number 34\n",
            "Enter the second number 12\n",
            "Enter the third number 7\n",
            "34\n"
          ]
        }
      ]
    }
  ]
}