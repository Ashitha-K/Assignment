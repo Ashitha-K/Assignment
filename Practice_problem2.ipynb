{
  "nbformat": 4,
  "nbformat_minor": 0,
  "metadata": {
    "colab": {
      "provenance": [],
      "authorship_tag": "ABX9TyOXQq7X8hXo/W+qlEHnjsUn",
      "include_colab_link": true
    },
    "kernelspec": {
      "name": "python3",
      "display_name": "Python 3"
    },
    "language_info": {
      "name": "python"
    }
  },
  "cells": [
    {
      "cell_type": "markdown",
      "metadata": {
        "id": "view-in-github",
        "colab_type": "text"
      },
      "source": [
        "<a href=\"https://colab.research.google.com/github/Ashitha-K/Assignment/blob/main/Practice_problem2.ipynb\" target=\"_parent\"><img src=\"https://colab.research.google.com/assets/colab-badge.svg\" alt=\"Open In Colab\"/></a>"
      ]
    },
    {
      "cell_type": "code",
      "source": [
        "'''\n",
        "Write a Python program to accept a string value from the user and display\n",
        "the count of each character in that string. Sample input: Enter a string\n",
        "value: assembly Sample output: a=1, s=2, e=1, m=1, b=1, l=1, y=1\n",
        "'''\n",
        "input_string = \"assembly\"\n",
        "\n",
        "char_count = {}\n",
        "for char in input_string:\n",
        "    if char in char_count:\n",
        "        char_count[char] += 1\n",
        "    else:\n",
        "        char_count[char] = 1\n",
        "\n",
        "for char, count in char_count.items():\n",
        "    print(f'{char}={count}', end=', ')\n",
        "print()"
      ],
      "metadata": {
        "colab": {
          "base_uri": "https://localhost:8080/"
        },
        "id": "mMsgbc0VQE14",
        "outputId": "fcc2c3fd-1f1e-46ae-9e05-ac64df261787"
      },
      "execution_count": null,
      "outputs": [
        {
          "output_type": "stream",
          "name": "stdout",
          "text": [
            "a=1, s=2, e=1, m=1, b=1, l=1, y=1, \n"
          ]
        }
      ]
    },
    {
      "cell_type": "code",
      "source": [
        "'''\n",
        "Write a Python function to find the maximum of three numbers Sample\n",
        "input: 34,12,7 Sample output: 34\n",
        "'''\n",
        "def maximum(a, b, c):\n",
        "    return max(a, b, c)\n",
        "\n",
        "#input\n",
        "num1=34\n",
        "num2=12\n",
        "num3=7\n",
        "result =maximum(num1, num2, num3)\n",
        "\n",
        "#output\n",
        "print(result)\n",
        "\n"
      ],
      "metadata": {
        "colab": {
          "base_uri": "https://localhost:8080/"
        },
        "id": "asG_JmAMW0FK",
        "outputId": "dd937a8f-41ad-41d4-faef-0ebeab23c434"
      },
      "execution_count": null,
      "outputs": [
        {
          "output_type": "stream",
          "name": "stdout",
          "text": [
            "34\n"
          ]
        }
      ]
    },
    {
      "cell_type": "code",
      "source": [
        "'''\n",
        "Write a Python function called exponent(base,exp) that returns an\n",
        "integer value of base raises to the power of exp. Sample input: Enter the\n",
        "base: 2 Enter the exponent: 3 Sample output: 8\n",
        "'''\n",
        "def exponent(base,exp):\n",
        "  return base**exp\n",
        "#base = float(input(\"Enter the base\"))\n",
        "#exp = int(input(\"Enter the exponent\"))\n",
        "output=exponent(2,3)\n",
        "print(output)"
      ],
      "metadata": {
        "colab": {
          "base_uri": "https://localhost:8080/"
        },
        "id": "kd_9dHgLVJuD",
        "outputId": "ba957ca4-af3d-478e-eccb-ce5bcf1dbeea"
      },
      "execution_count": null,
      "outputs": [
        {
          "output_type": "stream",
          "name": "stdout",
          "text": [
            "8\n"
          ]
        }
      ]
    },
    {
      "cell_type": "code",
      "source": [
        "'''\n",
        "Write a Python function that takes a positive integer and returns the sum\n",
        "of the cube of all the positive integers smaller than the specified number.\n",
        "Sample input: 4 Sample output: 36.\n",
        "'''\n",
        "def cube(n):\n",
        "    sum = 0\n",
        "    for i in range(1, n):\n",
        "        sum+= i ** 3\n",
        "    return sum\n",
        "print(cube(4))\n",
        "\n"
      ],
      "metadata": {
        "colab": {
          "base_uri": "https://localhost:8080/"
        },
        "id": "g8UDkhyAW0is",
        "outputId": "a946e091-2af7-4fb0-98e1-26a6a69247ca"
      },
      "execution_count": null,
      "outputs": [
        {
          "output_type": "stream",
          "name": "stdout",
          "text": [
            "36\n"
          ]
        }
      ]
    },
    {
      "cell_type": "code",
      "source": [
        "'''\n",
        "Write a Python program which iterates from 1 to 10. For multiples of 2,\n",
        "print “Fizz” instead of the number and for the multiples of 5, print “Buzz”.\n",
        "For numbers which are multiples of both 2 and 5, print “FizzBuzz”.\n",
        "Sample input: numbers from 1 to 10 Sample output: 1 Fizz 3 Fizz Buzz\n",
        "Fizz 7 Fizz 9 FizzBuzz\n",
        "'''\n",
        "for i in range(1,11):\n",
        "    if i%2==0 and i%5==0:\n",
        "      print(\"FizzBuzz\",end=' ')\n",
        "    elif i%2==0:\n",
        "      print(\"Fizz\",end=' ')\n",
        "    elif i%5==0:\n",
        "      print(\"Buzz\",end=' ')\n",
        "    else:\n",
        "      print(i,end=' ')\n"
      ],
      "metadata": {
        "colab": {
          "base_uri": "https://localhost:8080/"
        },
        "id": "UgVK_O1DlDSv",
        "outputId": "3c0d5b59-8b8f-4b08-f213-6518eab632a6"
      },
      "execution_count": null,
      "outputs": [
        {
          "output_type": "stream",
          "name": "stdout",
          "text": [
            "1 Fizz 3 Fizz Buzz Fizz 7 Fizz 9 FizzBuzz "
          ]
        }
      ]
    },
    {
      "cell_type": "code",
      "source": [
        "'''\n",
        " Write a Python program to find the most frequent item in a list of\n",
        "numbers. Sample input: 2, 3, 4, 2, 5, 2 Sample output: 2\n",
        "'''\n",
        "list = [2, 1, 2, 2, 1, 3]\n",
        "count=0\n",
        "temp=0\n",
        "index=0\n",
        "length=len(list)\n",
        "#print(length)\n",
        "for n in range(0,length):\n",
        "  temp=list.count(list[n])\n",
        "  if(temp>count):\n",
        "    count=temp\n",
        "    index=n\n",
        "number=list[index]\n",
        "print(number)\n"
      ],
      "metadata": {
        "colab": {
          "base_uri": "https://localhost:8080/"
        },
        "id": "4jI7rtqooSB7",
        "outputId": "9702a34f-86a8-4b2d-9705-3b5b4b00fc38"
      },
      "execution_count": 7,
      "outputs": [
        {
          "output_type": "stream",
          "name": "stdout",
          "text": [
            "2\n"
          ]
        }
      ]
    },
    {
      "cell_type": "code",
      "source": [
        "'''\n",
        "7. Write a Python program to find the sum of squares of the numbers in a\n",
        "list. Sample input: 2,1,3,1 Sample output: 15\n",
        "'''\n",
        "l1=[2,1,3,1]\n",
        "sum=0\n",
        "for i in l1:\n",
        "  sum+=i**2\n",
        "print(sum)\n"
      ],
      "metadata": {
        "id": "wbn3CSCvo47A",
        "colab": {
          "base_uri": "https://localhost:8080/"
        },
        "outputId": "6d8b4e41-9a97-44c1-feab-050148fb19be"
      },
      "execution_count": null,
      "outputs": [
        {
          "output_type": "stream",
          "name": "stdout",
          "text": [
            "15\n"
          ]
        }
      ]
    },
    {
      "cell_type": "code",
      "source": [
        "'''\n",
        "Write a Python program using for loop that will iterate from 1 to 15. For\n",
        "each iteration, check if the current number is odd or even, and display the\n",
        "message to the screen as odd or even. Sample input: 1….15 Sample\n",
        "output: 1-odd 2-even …. 15-odd\n",
        "'''\n",
        "for i in range(1,16):\n",
        "  if i%2==0:\n",
        "    print(i, \"- even\",end=' ')\n",
        "  else:\n",
        "    print(i, \"- odd\",end=' ')\n"
      ],
      "metadata": {
        "colab": {
          "base_uri": "https://localhost:8080/"
        },
        "id": "cNGkHGMeyZ2t",
        "outputId": "8d682ed3-4c0d-445f-d94e-a9d885d387e2"
      },
      "execution_count": null,
      "outputs": [
        {
          "output_type": "stream",
          "name": "stdout",
          "text": [
            "1 - odd 2 - even 3 - odd 4 - even 5 - odd 6 - even 7 - odd 8 - even 9 - odd 10 - even 11 - odd 12 - even 13 - odd 14 - even 15 - odd "
          ]
        }
      ]
    },
    {
      "cell_type": "code",
      "source": [
        "'''\n",
        "9. Write a Python program to convert temperatures to and from Celsius\n",
        "Fahrenheit. [Formula: c/5=f-32/9 where c=temperature in Celsius and f=\n",
        "temperature in Fahrenheit.] Sample input: Temperature in Fahrenheit\n",
        "=41 Sample output: Temperature in Celsius =5\n",
        "'''\n",
        "f=float(input(\"Enter the Temperature in Fahrenheit \"))\n",
        "c=(f-32)*5/9\n",
        "print(\"Temperature in Celsius =\",c)\n"
      ],
      "metadata": {
        "colab": {
          "base_uri": "https://localhost:8080/"
        },
        "id": "sYmhTLL5zjTa",
        "outputId": "4ef7776c-ed8b-44a6-a1f7-0bf5b719e42a"
      },
      "execution_count": null,
      "outputs": [
        {
          "output_type": "stream",
          "name": "stdout",
          "text": [
            "Enter the Temperature in Fahrenheit 41\n",
            "Temperature in Celsius = 5.0\n"
          ]
        }
      ]
    },
    {
      "cell_type": "code",
      "source": [
        "'''\n",
        "10. Write a Python function to calculate the factorial of a number (a\n",
        "nonnegative integer). The function accepts the number as an argument.\n",
        "Sample input: 3 Sample output: 6\n",
        "'''\n",
        "def factorial(num):\n",
        "  fact=1\n",
        "  for i in range(1,num+1):\n",
        "    fact=fact*i\n",
        "  return fact\n",
        "print(factorial(3))\n",
        "\n"
      ],
      "metadata": {
        "id": "GB8OuVrb2N1X",
        "colab": {
          "base_uri": "https://localhost:8080/"
        },
        "outputId": "a3d1e106-885b-4696-8c5e-d25cd35a25d2"
      },
      "execution_count": null,
      "outputs": [
        {
          "output_type": "stream",
          "name": "stdout",
          "text": [
            "6\n"
          ]
        }
      ]
    }
  ]
}