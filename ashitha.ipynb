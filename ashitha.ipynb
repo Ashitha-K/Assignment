{
  "nbformat": 4,
  "nbformat_minor": 0,
  "metadata": {
    "colab": {
      "provenance": [],
      "authorship_tag": "ABX9TyMShuOvttMmFaat1vJ5Zy1H",
      "include_colab_link": true
    },
    "kernelspec": {
      "name": "python3",
      "display_name": "Python 3"
    },
    "language_info": {
      "name": "python"
    }
  },
  "cells": [
    {
      "cell_type": "markdown",
      "metadata": {
        "id": "view-in-github",
        "colab_type": "text"
      },
      "source": [
        "<a href=\"https://colab.research.google.com/github/Ashitha-K/Assignment/blob/main/ashitha.ipynb\" target=\"_parent\"><img src=\"https://colab.research.google.com/assets/colab-badge.svg\" alt=\"Open In Colab\"/></a>"
      ]
    },
    {
      "cell_type": "code",
      "execution_count": 21,
      "metadata": {
        "id": "Vn2Tp3j-4Vmf"
      },
      "outputs": [],
      "source": [
        "import numpy as np\n",
        "import pandas as pd\n",
        "import matplotlib.pyplot as plt\n",
        "import seaborn as sns"
      ]
    },
    {
      "cell_type": "code",
      "source": [
        "data=pd.read_excel('/content/iris (2).xls')\n",
        "data.head()"
      ],
      "metadata": {
        "colab": {
          "base_uri": "https://localhost:8080/",
          "height": 206
        },
        "id": "qApp3pS04l4K",
        "outputId": "a012a108-6bcf-4659-8c40-c792c444663f"
      },
      "execution_count": 22,
      "outputs": [
        {
          "output_type": "execute_result",
          "data": {
            "text/plain": [
              "    SL   SW   PL   PW Classification\n",
              "0  5.1  3.5  1.4  0.2    Iris-setosa\n",
              "1  4.9  3.0  1.4  0.2    Iris-setosa\n",
              "2  NaN  3.2  1.3  0.2    Iris-setosa\n",
              "3  4.6  3.1  1.5  0.2    Iris-setosa\n",
              "4  5.0  3.6  1.4  0.2    Iris-setosa"
            ],
            "text/html": [
              "\n",
              "  <div id=\"df-c3392770-6fd0-478f-8757-f96b0cfb3af5\" class=\"colab-df-container\">\n",
              "    <div>\n",
              "<style scoped>\n",
              "    .dataframe tbody tr th:only-of-type {\n",
              "        vertical-align: middle;\n",
              "    }\n",
              "\n",
              "    .dataframe tbody tr th {\n",
              "        vertical-align: top;\n",
              "    }\n",
              "\n",
              "    .dataframe thead th {\n",
              "        text-align: right;\n",
              "    }\n",
              "</style>\n",
              "<table border=\"1\" class=\"dataframe\">\n",
              "  <thead>\n",
              "    <tr style=\"text-align: right;\">\n",
              "      <th></th>\n",
              "      <th>SL</th>\n",
              "      <th>SW</th>\n",
              "      <th>PL</th>\n",
              "      <th>PW</th>\n",
              "      <th>Classification</th>\n",
              "    </tr>\n",
              "  </thead>\n",
              "  <tbody>\n",
              "    <tr>\n",
              "      <th>0</th>\n",
              "      <td>5.1</td>\n",
              "      <td>3.5</td>\n",
              "      <td>1.4</td>\n",
              "      <td>0.2</td>\n",
              "      <td>Iris-setosa</td>\n",
              "    </tr>\n",
              "    <tr>\n",
              "      <th>1</th>\n",
              "      <td>4.9</td>\n",
              "      <td>3.0</td>\n",
              "      <td>1.4</td>\n",
              "      <td>0.2</td>\n",
              "      <td>Iris-setosa</td>\n",
              "    </tr>\n",
              "    <tr>\n",
              "      <th>2</th>\n",
              "      <td>NaN</td>\n",
              "      <td>3.2</td>\n",
              "      <td>1.3</td>\n",
              "      <td>0.2</td>\n",
              "      <td>Iris-setosa</td>\n",
              "    </tr>\n",
              "    <tr>\n",
              "      <th>3</th>\n",
              "      <td>4.6</td>\n",
              "      <td>3.1</td>\n",
              "      <td>1.5</td>\n",
              "      <td>0.2</td>\n",
              "      <td>Iris-setosa</td>\n",
              "    </tr>\n",
              "    <tr>\n",
              "      <th>4</th>\n",
              "      <td>5.0</td>\n",
              "      <td>3.6</td>\n",
              "      <td>1.4</td>\n",
              "      <td>0.2</td>\n",
              "      <td>Iris-setosa</td>\n",
              "    </tr>\n",
              "  </tbody>\n",
              "</table>\n",
              "</div>\n",
              "    <div class=\"colab-df-buttons\">\n",
              "\n",
              "  <div class=\"colab-df-container\">\n",
              "    <button class=\"colab-df-convert\" onclick=\"convertToInteractive('df-c3392770-6fd0-478f-8757-f96b0cfb3af5')\"\n",
              "            title=\"Convert this dataframe to an interactive table.\"\n",
              "            style=\"display:none;\">\n",
              "\n",
              "  <svg xmlns=\"http://www.w3.org/2000/svg\" height=\"24px\" viewBox=\"0 -960 960 960\">\n",
              "    <path d=\"M120-120v-720h720v720H120Zm60-500h600v-160H180v160Zm220 220h160v-160H400v160Zm0 220h160v-160H400v160ZM180-400h160v-160H180v160Zm440 0h160v-160H620v160ZM180-180h160v-160H180v160Zm440 0h160v-160H620v160Z\"/>\n",
              "  </svg>\n",
              "    </button>\n",
              "\n",
              "  <style>\n",
              "    .colab-df-container {\n",
              "      display:flex;\n",
              "      gap: 12px;\n",
              "    }\n",
              "\n",
              "    .colab-df-convert {\n",
              "      background-color: #E8F0FE;\n",
              "      border: none;\n",
              "      border-radius: 50%;\n",
              "      cursor: pointer;\n",
              "      display: none;\n",
              "      fill: #1967D2;\n",
              "      height: 32px;\n",
              "      padding: 0 0 0 0;\n",
              "      width: 32px;\n",
              "    }\n",
              "\n",
              "    .colab-df-convert:hover {\n",
              "      background-color: #E2EBFA;\n",
              "      box-shadow: 0px 1px 2px rgba(60, 64, 67, 0.3), 0px 1px 3px 1px rgba(60, 64, 67, 0.15);\n",
              "      fill: #174EA6;\n",
              "    }\n",
              "\n",
              "    .colab-df-buttons div {\n",
              "      margin-bottom: 4px;\n",
              "    }\n",
              "\n",
              "    [theme=dark] .colab-df-convert {\n",
              "      background-color: #3B4455;\n",
              "      fill: #D2E3FC;\n",
              "    }\n",
              "\n",
              "    [theme=dark] .colab-df-convert:hover {\n",
              "      background-color: #434B5C;\n",
              "      box-shadow: 0px 1px 3px 1px rgba(0, 0, 0, 0.15);\n",
              "      filter: drop-shadow(0px 1px 2px rgba(0, 0, 0, 0.3));\n",
              "      fill: #FFFFFF;\n",
              "    }\n",
              "  </style>\n",
              "\n",
              "    <script>\n",
              "      const buttonEl =\n",
              "        document.querySelector('#df-c3392770-6fd0-478f-8757-f96b0cfb3af5 button.colab-df-convert');\n",
              "      buttonEl.style.display =\n",
              "        google.colab.kernel.accessAllowed ? 'block' : 'none';\n",
              "\n",
              "      async function convertToInteractive(key) {\n",
              "        const element = document.querySelector('#df-c3392770-6fd0-478f-8757-f96b0cfb3af5');\n",
              "        const dataTable =\n",
              "          await google.colab.kernel.invokeFunction('convertToInteractive',\n",
              "                                                    [key], {});\n",
              "        if (!dataTable) return;\n",
              "\n",
              "        const docLinkHtml = 'Like what you see? Visit the ' +\n",
              "          '<a target=\"_blank\" href=https://colab.research.google.com/notebooks/data_table.ipynb>data table notebook</a>'\n",
              "          + ' to learn more about interactive tables.';\n",
              "        element.innerHTML = '';\n",
              "        dataTable['output_type'] = 'display_data';\n",
              "        await google.colab.output.renderOutput(dataTable, element);\n",
              "        const docLink = document.createElement('div');\n",
              "        docLink.innerHTML = docLinkHtml;\n",
              "        element.appendChild(docLink);\n",
              "      }\n",
              "    </script>\n",
              "  </div>\n",
              "\n",
              "\n",
              "<div id=\"df-c7979963-5a83-4ddf-8398-403e5617acca\">\n",
              "  <button class=\"colab-df-quickchart\" onclick=\"quickchart('df-c7979963-5a83-4ddf-8398-403e5617acca')\"\n",
              "            title=\"Suggest charts\"\n",
              "            style=\"display:none;\">\n",
              "\n",
              "<svg xmlns=\"http://www.w3.org/2000/svg\" height=\"24px\"viewBox=\"0 0 24 24\"\n",
              "     width=\"24px\">\n",
              "    <g>\n",
              "        <path d=\"M19 3H5c-1.1 0-2 .9-2 2v14c0 1.1.9 2 2 2h14c1.1 0 2-.9 2-2V5c0-1.1-.9-2-2-2zM9 17H7v-7h2v7zm4 0h-2V7h2v10zm4 0h-2v-4h2v4z\"/>\n",
              "    </g>\n",
              "</svg>\n",
              "  </button>\n",
              "\n",
              "<style>\n",
              "  .colab-df-quickchart {\n",
              "      --bg-color: #E8F0FE;\n",
              "      --fill-color: #1967D2;\n",
              "      --hover-bg-color: #E2EBFA;\n",
              "      --hover-fill-color: #174EA6;\n",
              "      --disabled-fill-color: #AAA;\n",
              "      --disabled-bg-color: #DDD;\n",
              "  }\n",
              "\n",
              "  [theme=dark] .colab-df-quickchart {\n",
              "      --bg-color: #3B4455;\n",
              "      --fill-color: #D2E3FC;\n",
              "      --hover-bg-color: #434B5C;\n",
              "      --hover-fill-color: #FFFFFF;\n",
              "      --disabled-bg-color: #3B4455;\n",
              "      --disabled-fill-color: #666;\n",
              "  }\n",
              "\n",
              "  .colab-df-quickchart {\n",
              "    background-color: var(--bg-color);\n",
              "    border: none;\n",
              "    border-radius: 50%;\n",
              "    cursor: pointer;\n",
              "    display: none;\n",
              "    fill: var(--fill-color);\n",
              "    height: 32px;\n",
              "    padding: 0;\n",
              "    width: 32px;\n",
              "  }\n",
              "\n",
              "  .colab-df-quickchart:hover {\n",
              "    background-color: var(--hover-bg-color);\n",
              "    box-shadow: 0 1px 2px rgba(60, 64, 67, 0.3), 0 1px 3px 1px rgba(60, 64, 67, 0.15);\n",
              "    fill: var(--button-hover-fill-color);\n",
              "  }\n",
              "\n",
              "  .colab-df-quickchart-complete:disabled,\n",
              "  .colab-df-quickchart-complete:disabled:hover {\n",
              "    background-color: var(--disabled-bg-color);\n",
              "    fill: var(--disabled-fill-color);\n",
              "    box-shadow: none;\n",
              "  }\n",
              "\n",
              "  .colab-df-spinner {\n",
              "    border: 2px solid var(--fill-color);\n",
              "    border-color: transparent;\n",
              "    border-bottom-color: var(--fill-color);\n",
              "    animation:\n",
              "      spin 1s steps(1) infinite;\n",
              "  }\n",
              "\n",
              "  @keyframes spin {\n",
              "    0% {\n",
              "      border-color: transparent;\n",
              "      border-bottom-color: var(--fill-color);\n",
              "      border-left-color: var(--fill-color);\n",
              "    }\n",
              "    20% {\n",
              "      border-color: transparent;\n",
              "      border-left-color: var(--fill-color);\n",
              "      border-top-color: var(--fill-color);\n",
              "    }\n",
              "    30% {\n",
              "      border-color: transparent;\n",
              "      border-left-color: var(--fill-color);\n",
              "      border-top-color: var(--fill-color);\n",
              "      border-right-color: var(--fill-color);\n",
              "    }\n",
              "    40% {\n",
              "      border-color: transparent;\n",
              "      border-right-color: var(--fill-color);\n",
              "      border-top-color: var(--fill-color);\n",
              "    }\n",
              "    60% {\n",
              "      border-color: transparent;\n",
              "      border-right-color: var(--fill-color);\n",
              "    }\n",
              "    80% {\n",
              "      border-color: transparent;\n",
              "      border-right-color: var(--fill-color);\n",
              "      border-bottom-color: var(--fill-color);\n",
              "    }\n",
              "    90% {\n",
              "      border-color: transparent;\n",
              "      border-bottom-color: var(--fill-color);\n",
              "    }\n",
              "  }\n",
              "</style>\n",
              "\n",
              "  <script>\n",
              "    async function quickchart(key) {\n",
              "      const quickchartButtonEl =\n",
              "        document.querySelector('#' + key + ' button');\n",
              "      quickchartButtonEl.disabled = true;  // To prevent multiple clicks.\n",
              "      quickchartButtonEl.classList.add('colab-df-spinner');\n",
              "      try {\n",
              "        const charts = await google.colab.kernel.invokeFunction(\n",
              "            'suggestCharts', [key], {});\n",
              "      } catch (error) {\n",
              "        console.error('Error during call to suggestCharts:', error);\n",
              "      }\n",
              "      quickchartButtonEl.classList.remove('colab-df-spinner');\n",
              "      quickchartButtonEl.classList.add('colab-df-quickchart-complete');\n",
              "    }\n",
              "    (() => {\n",
              "      let quickchartButtonEl =\n",
              "        document.querySelector('#df-c7979963-5a83-4ddf-8398-403e5617acca button');\n",
              "      quickchartButtonEl.style.display =\n",
              "        google.colab.kernel.accessAllowed ? 'block' : 'none';\n",
              "    })();\n",
              "  </script>\n",
              "</div>\n",
              "\n",
              "    </div>\n",
              "  </div>\n"
            ],
            "application/vnd.google.colaboratory.intrinsic+json": {
              "type": "dataframe",
              "variable_name": "data",
              "summary": "{\n  \"name\": \"data\",\n  \"rows\": 150,\n  \"fields\": [\n    {\n      \"column\": \"SL\",\n      \"properties\": {\n        \"dtype\": \"number\",\n        \"std\": 0.8281680425537907,\n        \"min\": 4.3,\n        \"max\": 7.9,\n        \"num_unique_values\": 35,\n        \"samples\": [\n          6.4,\n          4.5,\n          6.7\n        ],\n        \"semantic_type\": \"\",\n        \"description\": \"\"\n      }\n    },\n    {\n      \"column\": \"SW\",\n      \"properties\": {\n        \"dtype\": \"number\",\n        \"std\": 0.4306437737028829,\n        \"min\": 2.0,\n        \"max\": 4.4,\n        \"num_unique_values\": 23,\n        \"samples\": [\n          2.3,\n          4.4,\n          3.5\n        ],\n        \"semantic_type\": \"\",\n        \"description\": \"\"\n      }\n    },\n    {\n      \"column\": \"PL\",\n      \"properties\": {\n        \"dtype\": \"number\",\n        \"std\": 1.7613058867140106,\n        \"min\": 1.0,\n        \"max\": 6.9,\n        \"num_unique_values\": 43,\n        \"samples\": [\n          6.9,\n          3.8,\n          3.7\n        ],\n        \"semantic_type\": \"\",\n        \"description\": \"\"\n      }\n    },\n    {\n      \"column\": \"PW\",\n      \"properties\": {\n        \"dtype\": \"number\",\n        \"std\": 0.7631607417008411,\n        \"min\": 0.1,\n        \"max\": 2.5,\n        \"num_unique_values\": 22,\n        \"samples\": [\n          0.2,\n          1.2,\n          1.3\n        ],\n        \"semantic_type\": \"\",\n        \"description\": \"\"\n      }\n    },\n    {\n      \"column\": \"Classification\",\n      \"properties\": {\n        \"dtype\": \"category\",\n        \"num_unique_values\": 3,\n        \"samples\": [\n          \"Iris-setosa\",\n          \"Iris-versicolor\",\n          \"Iris-virginica\"\n        ],\n        \"semantic_type\": \"\",\n        \"description\": \"\"\n      }\n    }\n  ]\n}"
            }
          },
          "metadata": {},
          "execution_count": 22
        }
      ]
    },
    {
      "cell_type": "code",
      "source": [
        "data.shape  # checking the shape"
      ],
      "metadata": {
        "colab": {
          "base_uri": "https://localhost:8080/"
        },
        "id": "Jh9Dcy8C5VuP",
        "outputId": "ebd209d6-1a4d-4f11-863c-af0bab77a6ec"
      },
      "execution_count": 23,
      "outputs": [
        {
          "output_type": "execute_result",
          "data": {
            "text/plain": [
              "(150, 5)"
            ]
          },
          "metadata": {},
          "execution_count": 23
        }
      ]
    },
    {
      "cell_type": "code",
      "source": [
        "data.info()"
      ],
      "metadata": {
        "colab": {
          "base_uri": "https://localhost:8080/"
        },
        "id": "3tqhsLMP5ghQ",
        "outputId": "bd16dbd2-3ab7-4455-fcd2-77fac703d3ce"
      },
      "execution_count": 24,
      "outputs": [
        {
          "output_type": "stream",
          "name": "stdout",
          "text": [
            "<class 'pandas.core.frame.DataFrame'>\n",
            "RangeIndex: 150 entries, 0 to 149\n",
            "Data columns (total 5 columns):\n",
            " #   Column          Non-Null Count  Dtype  \n",
            "---  ------          --------------  -----  \n",
            " 0   SL              143 non-null    float64\n",
            " 1   SW              144 non-null    float64\n",
            " 2   PL              144 non-null    float64\n",
            " 3   PW              150 non-null    float64\n",
            " 4   Classification  150 non-null    object \n",
            "dtypes: float64(4), object(1)\n",
            "memory usage: 6.0+ KB\n"
          ]
        }
      ]
    },
    {
      "cell_type": "code",
      "source": [
        "data.isnull().sum() # Checking for the null values"
      ],
      "metadata": {
        "colab": {
          "base_uri": "https://localhost:8080/"
        },
        "id": "wNpVuV_y5oS-",
        "outputId": "e7456274-97b0-4eec-ead3-b0715fe82603"
      },
      "execution_count": 25,
      "outputs": [
        {
          "output_type": "execute_result",
          "data": {
            "text/plain": [
              "SL                7\n",
              "SW                6\n",
              "PL                6\n",
              "PW                0\n",
              "Classification    0\n",
              "dtype: int64"
            ]
          },
          "metadata": {},
          "execution_count": 25
        }
      ]
    },
    {
      "cell_type": "code",
      "source": [
        "data.columns"
      ],
      "metadata": {
        "colab": {
          "base_uri": "https://localhost:8080/"
        },
        "id": "ser7k3kW6gye",
        "outputId": "f73e7c97-b252-444d-ba0b-f1102d1ae1c0"
      },
      "execution_count": 26,
      "outputs": [
        {
          "output_type": "execute_result",
          "data": {
            "text/plain": [
              "Index(['SL', 'SW', 'PL', 'PW', 'Classification'], dtype='object')"
            ]
          },
          "metadata": {},
          "execution_count": 26
        }
      ]
    },
    {
      "cell_type": "code",
      "source": [
        "#using median to fill the null values\n",
        "for i in ['SL', 'SW', 'PL']:\n",
        "  data[i]=data[i].fillna(data[i].median())"
      ],
      "metadata": {
        "id": "Z6sn0VJH6fhh"
      },
      "execution_count": 27,
      "outputs": []
    },
    {
      "cell_type": "code",
      "source": [
        "data.isnull().sum() # Checking for the null values"
      ],
      "metadata": {
        "colab": {
          "base_uri": "https://localhost:8080/"
        },
        "id": "7kLcYR-o60EM",
        "outputId": "7114d7ca-d4b6-4c35-dfdb-383c03d8a266"
      },
      "execution_count": 28,
      "outputs": [
        {
          "output_type": "execute_result",
          "data": {
            "text/plain": [
              "SL                0\n",
              "SW                0\n",
              "PL                0\n",
              "PW                0\n",
              "Classification    0\n",
              "dtype: int64"
            ]
          },
          "metadata": {},
          "execution_count": 28
        }
      ]
    },
    {
      "cell_type": "code",
      "source": [
        "#Checking for outliers\n",
        "data.boxplot()"
      ],
      "metadata": {
        "colab": {
          "base_uri": "https://localhost:8080/",
          "height": 447
        },
        "id": "WvrTtMTv66s2",
        "outputId": "1ea43bd8-cbab-4be0-d7ee-11e77368dc4f"
      },
      "execution_count": 29,
      "outputs": [
        {
          "output_type": "execute_result",
          "data": {
            "text/plain": [
              "<Axes: >"
            ]
          },
          "metadata": {},
          "execution_count": 29
        },
        {
          "output_type": "display_data",
          "data": {
            "text/plain": [
              "<Figure size 640x480 with 1 Axes>"
            ],
            "image/png": "[encoded data removed]"
          },
          "metadata": {}
        }
      ]
    },
    {
      "cell_type": "code",
      "source": [
        "data['SW'].unique()"
      ],
      "metadata": {
        "colab": {
          "base_uri": "https://localhost:8080/"
        },
        "id": "MnaFByDR7E0u",
        "outputId": "8662c7f3-e7c3-478d-a068-d886a4686618"
      },
      "execution_count": 30,
      "outputs": [
        {
          "output_type": "execute_result",
          "data": {
            "text/plain": [
              "array([3.5, 3. , 3.2, 3.1, 3.6, 3.9, 3.4, 2.9, 4. , 4.4, 3.8, 3.7, 3.3,\n",
              "       4.1, 4.2, 2.3, 2.8, 2.4, 2.7, 2. , 2.2, 2.5, 2.6])"
            ]
          },
          "metadata": {},
          "execution_count": 30
        }
      ]
    },
    {
      "cell_type": "code",
      "source": [
        "# treating outlier\n",
        "outlier = ['SW']\n",
        "Q1 = data[outlier].quantile(0.25)\n",
        "Q3 = data[outlier].quantile(0.75)\n",
        "IQR = Q3 - Q1\n",
        "outliers_lower = data[outlier]<(Q1-1.5*IQR)\n",
        "outliers_upper = data[outlier]>(Q3 + 1.5*IQR)\n",
        "data[outlier] = data[outlier].clip(lower = Q1-1.5*IQR, upper = Q3+1.5*IQR, axis = 1)"
      ],
      "metadata": {
        "id": "heFfR25gV6P_"
      },
      "execution_count": 31,
      "outputs": []
    },
    {
      "cell_type": "code",
      "source": [
        "data.boxplot()"
      ],
      "metadata": {
        "colab": {
          "base_uri": "https://localhost:8080/",
          "height": 447
        },
        "id": "orBZMOBNW2LD",
        "outputId": "8bbe3efc-012a-485a-c75a-b996aa35c46b"
      },
      "execution_count": 32,
      "outputs": [
        {
          "output_type": "execute_result",
          "data": {
            "text/plain": [
              "<Axes: >"
            ]
          },
          "metadata": {},
          "execution_count": 32
        },
        {
          "output_type": "display_data",
          "data": {
            "text/plain": [
              "<Figure size 640x480 with 1 Axes>"
            ],
            "image/png": "[encoded data removed]"
          },
          "metadata": {}
        }
      ]
    },
    {
      "cell_type": "code",
      "source": [
        "X=data.drop('Classification',axis=1)\n",
        "y=data['Classification']\n"
      ],
      "metadata": {
        "id": "-VwInMGT9Bg5"
      },
      "execution_count": 33,
      "outputs": []
    },
    {
      "cell_type": "code",
      "source": [
        "#Scaling\n",
        "#applying standard scaling scaling\n",
        "from sklearn.preprocessing import StandardScaler\n",
        "sc=StandardScaler()"
      ],
      "metadata": {
        "id": "1QzJYbyI7k5B"
      },
      "execution_count": 34,
      "outputs": []
    },
    {
      "cell_type": "code",
      "source": [
        "X=sc.fit_transform(X)\n",
        "X\n"
      ],
      "metadata": {
        "colab": {
          "base_uri": "https://localhost:8080/"
        },
        "id": "O2WTfUhj8uu-",
        "outputId": "39115088-7d44-4d93-fb63-2554cab0118c"
      },
      "execution_count": 35,
      "outputs": [
        {
          "output_type": "execute_result",
          "data": {
            "text/plain": [
              "array([[-9.34810564e-01,  1.12601219e+00, -1.38079138e+00,\n",
              "        -1.31297673e+00],\n",
              "       [-1.18299036e+00, -1.05724025e-01, -1.38079138e+00,\n",
              "        -1.31297673e+00],\n",
              "       [-6.61812789e-02,  3.86970460e-01, -1.43880783e+00,\n",
              "        -1.31297673e+00],\n",
              "       [-1.55526005e+00,  1.40623217e-01, -1.32277494e+00,\n",
              "        -1.31297673e+00],\n",
              "       [-1.05890046e+00,  1.37235943e+00, -1.38079138e+00,\n",
              "        -1.31297673e+00],\n",
              "       [-5.62540871e-01,  2.11140116e+00, -1.20674205e+00,\n",
              "        -1.05003079e+00],\n",
              "       [-1.55526005e+00,  8.79664944e-01, -1.38079138e+00,\n",
              "        -1.18150376e+00],\n",
              "       [-1.05890046e+00,  8.79664944e-01, -1.32277494e+00,\n",
              "        -1.31297673e+00],\n",
              "       [-1.80343985e+00, -3.52071267e-01, -1.38079138e+00,\n",
              "        -1.31297673e+00],\n",
              "       [-1.18299036e+00,  1.40623217e-01, -1.32277494e+00,\n",
              "        -1.44444970e+00],\n",
              "       [-5.62540871e-01, -1.05724025e-01, -1.32277494e+00,\n",
              "        -1.31297673e+00],\n",
              "       [-1.30708026e+00,  8.79664944e-01, -1.26475849e+00,\n",
              "        -1.31297673e+00],\n",
              "       [-1.30708026e+00, -1.05724025e-01, -1.38079138e+00,\n",
              "        -1.44444970e+00],\n",
              "       [-1.92752975e+00, -1.05724025e-01, -1.55484071e+00,\n",
              "        -1.44444970e+00],\n",
              "       [-6.61812789e-02,  2.32695499e+00, -1.49682427e+00,\n",
              "        -1.31297673e+00],\n",
              "       [-1.90271177e-01,  2.32695499e+00, -1.32277494e+00,\n",
              "        -1.05003079e+00],\n",
              "       [-5.62540871e-01,  2.11140116e+00, -1.43880783e+00,\n",
              "        -1.05003079e+00],\n",
              "       [-9.34810564e-01,  1.12601219e+00, -1.38079138e+00,\n",
              "        -1.18150376e+00],\n",
              "       [-1.90271177e-01,  1.86505391e+00, -1.20674205e+00,\n",
              "        -1.18150376e+00],\n",
              "       [-9.34810564e-01,  1.86505391e+00, -1.32277494e+00,\n",
              "        -1.18150376e+00],\n",
              "       [-5.62540871e-01,  8.79664944e-01, -1.20674205e+00,\n",
              "        -1.31297673e+00],\n",
              "       [-6.61812789e-02,  1.61870667e+00, -1.32277494e+00,\n",
              "        -1.05003079e+00],\n",
              "       [-1.55526005e+00,  1.37235943e+00, -1.61285716e+00,\n",
              "        -1.31297673e+00],\n",
              "       [-9.34810564e-01,  6.33317702e-01, -1.20674205e+00,\n",
              "        -9.18557817e-01],\n",
              "       [-1.30708026e+00,  8.79664944e-01, -1.09070916e+00,\n",
              "        -1.31297673e+00],\n",
              "       [-1.05890046e+00, -1.05724025e-01, -1.26475849e+00,\n",
              "        -1.31297673e+00],\n",
              "       [-1.05890046e+00,  8.79664944e-01, -1.26475849e+00,\n",
              "        -1.05003079e+00],\n",
              "       [-8.10720666e-01, -1.05724025e-01, -1.32277494e+00,\n",
              "        -1.31297673e+00],\n",
              "       [-8.10720666e-01,  8.79664944e-01,  3.30693734e-01,\n",
              "        -1.31297673e+00],\n",
              "       [-1.43117016e+00,  3.86970460e-01, -1.26475849e+00,\n",
              "        -1.31297673e+00],\n",
              "       [-1.30708026e+00,  1.40623217e-01, -1.26475849e+00,\n",
              "        -1.31297673e+00],\n",
              "       [-5.62540871e-01,  8.79664944e-01, -1.32277494e+00,\n",
              "        -1.05003079e+00],\n",
              "       [-8.10720666e-01,  2.32695499e+00, -1.32277494e+00,\n",
              "        -1.44444970e+00],\n",
              "       [-4.38450973e-01,  2.32695499e+00, -1.38079138e+00,\n",
              "        -1.31297673e+00],\n",
              "       [-1.18299036e+00,  1.40623217e-01, -1.32277494e+00,\n",
              "        -1.44444970e+00],\n",
              "       [-1.05890046e+00,  3.86970460e-01, -1.49682427e+00,\n",
              "        -1.31297673e+00],\n",
              "       [-4.38450973e-01,  1.12601219e+00, -1.43880783e+00,\n",
              "        -1.31297673e+00],\n",
              "       [-1.18299036e+00,  1.40623217e-01, -1.32277494e+00,\n",
              "        -1.44444970e+00],\n",
              "       [-1.80343985e+00, -1.05724025e-01, -1.43880783e+00,\n",
              "        -1.31297673e+00],\n",
              "       [-6.61812789e-02,  8.79664944e-01, -1.32277494e+00,\n",
              "        -1.31297673e+00],\n",
              "       [-1.05890046e+00,  1.12601219e+00, -1.43880783e+00,\n",
              "        -1.18150376e+00],\n",
              "       [-1.67934995e+00, -1.83015472e+00, -1.43880783e+00,\n",
              "        -1.18150376e+00],\n",
              "       [-1.80343985e+00,  3.86970460e-01,  3.30693734e-01,\n",
              "        -1.31297673e+00],\n",
              "       [-1.05890046e+00, -1.05724025e-01, -1.26475849e+00,\n",
              "        -7.87084847e-01],\n",
              "       [-9.34810564e-01,  1.86505391e+00, -1.09070916e+00,\n",
              "        -1.05003079e+00],\n",
              "       [-1.30708026e+00, -1.05724025e-01, -1.38079138e+00,\n",
              "        -1.18150376e+00],\n",
              "       [-9.34810564e-01,  1.86505391e+00, -1.26475849e+00,\n",
              "        -1.31297673e+00],\n",
              "       [-1.55526005e+00,  3.86970460e-01, -1.38079138e+00,\n",
              "        -1.31297673e+00],\n",
              "       [-6.86630768e-01,  1.61870667e+00, -1.32277494e+00,\n",
              "        -1.31297673e+00],\n",
              "       [-1.05890046e+00,  6.33317702e-01, -1.38079138e+00,\n",
              "        -1.31297673e+00],\n",
              "       [ 1.42289750e+00,  3.86970460e-01,  5.33751290e-01,\n",
              "         2.64698913e-01],\n",
              "       [-6.61812789e-02,  3.86970460e-01,  4.17718401e-01,\n",
              "         3.96171883e-01],\n",
              "       [ 1.29880760e+00,  1.40623217e-01,  6.49784179e-01,\n",
              "         3.96171883e-01],\n",
              "       [-4.38450973e-01, -1.83015472e+00,  1.27636178e-01,\n",
              "         1.33225943e-01],\n",
              "       [ 8.02448007e-01, -5.98418509e-01,  4.75734846e-01,\n",
              "         3.96171883e-01],\n",
              "       [-1.90271177e-01, -5.98418509e-01,  4.17718401e-01,\n",
              "         1.33225943e-01],\n",
              "       [ 5.54268211e-01,  6.33317702e-01,  3.30693734e-01,\n",
              "         5.27644853e-01],\n",
              "       [-1.18299036e+00, -1.58380748e+00, -2.78478934e-01,\n",
              "        -2.61192967e-01],\n",
              "       [ 9.26537904e-01, -3.52071267e-01,  4.75734846e-01,\n",
              "         1.33225943e-01],\n",
              "       [-8.10720666e-01, -8.44765752e-01,  6.96197335e-02,\n",
              "         2.64698913e-01],\n",
              "       [-1.05890046e+00, -2.35364261e+00, -1.62446045e-01,\n",
              "        -2.61192967e-01],\n",
              "       [ 5.79086190e-02, -1.05724025e-01,  2.43669067e-01,\n",
              "         3.96171883e-01],\n",
              "       [ 1.81998517e-01, -2.07650196e+00,  1.27636178e-01,\n",
              "        -2.61192967e-01],\n",
              "       [ 3.06088415e-01, -3.52071267e-01,  5.33751290e-01,\n",
              "         2.64698913e-01],\n",
              "       [-3.14361075e-01, -3.52071267e-01, -1.04429600e-01,\n",
              "         1.33225943e-01],\n",
              "       [ 1.05062780e+00,  1.40623217e-01,  3.59701956e-01,\n",
              "         2.64698913e-01],\n",
              "       [-3.14361075e-01, -1.05724025e-01,  4.17718401e-01,\n",
              "         3.96171883e-01],\n",
              "       [-6.61812789e-02, -8.44765752e-01,  1.85652623e-01,\n",
              "        -2.61192967e-01],\n",
              "       [ 4.30178313e-01, -2.07650196e+00,  4.17718401e-01,\n",
              "         3.96171883e-01],\n",
              "       [-3.14361075e-01, -1.33746024e+00,  6.96197335e-02,\n",
              "        -1.29719997e-01],\n",
              "       [ 5.79086190e-02,  3.86970460e-01,  5.91767735e-01,\n",
              "         7.90590793e-01],\n",
              "       [ 3.06088415e-01, -5.98418509e-01,  1.27636178e-01,\n",
              "         1.33225943e-01],\n",
              "       [ 5.54268211e-01, -1.05724025e-01,  6.49784179e-01,\n",
              "         3.96171883e-01],\n",
              "       [ 3.06088415e-01, -5.98418509e-01,  5.33751290e-01,\n",
              "         1.75297293e-03],\n",
              "       [ 6.78358109e-01, -3.52071267e-01,  3.01685512e-01,\n",
              "         1.33225943e-01],\n",
              "       [ 9.26537904e-01, -1.05724025e-01,  3.59701956e-01,\n",
              "         2.64698913e-01],\n",
              "       [ 1.17471770e+00, -5.98418509e-01,  5.91767735e-01,\n",
              "         2.64698913e-01],\n",
              "       [ 1.05062780e+00, -1.05724025e-01,  7.07800624e-01,\n",
              "         6.59117823e-01],\n",
              "       [ 1.81998517e-01, -3.52071267e-01,  4.17718401e-01,\n",
              "         3.96171883e-01],\n",
              "       [-1.90271177e-01, -1.09111299e+00, -1.62446045e-01,\n",
              "        -2.61192967e-01],\n",
              "       [-4.38450973e-01, -1.58380748e+00,  1.16032889e-02,\n",
              "        -1.29719997e-01],\n",
              "       [-4.38450973e-01, -1.58380748e+00, -4.64131557e-02,\n",
              "        -2.61192967e-01],\n",
              "       [-6.61812789e-02, -8.44765752e-01,  6.96197335e-02,\n",
              "         1.75297293e-03],\n",
              "       [ 1.81998517e-01, -8.44765752e-01,  7.65817068e-01,\n",
              "         5.27644853e-01],\n",
              "       [-5.62540871e-01, -1.05724025e-01,  4.17718401e-01,\n",
              "         3.96171883e-01],\n",
              "       [-6.61812789e-02,  8.79664944e-01,  4.17718401e-01,\n",
              "         5.27644853e-01],\n",
              "       [ 1.05062780e+00,  1.40623217e-01,  5.33751290e-01,\n",
              "         3.96171883e-01],\n",
              "       [ 5.54268211e-01, -1.83015472e+00,  3.59701956e-01,\n",
              "         1.33225943e-01],\n",
              "       [-3.14361075e-01, -1.05724025e-01,  1.85652623e-01,\n",
              "         1.33225943e-01],\n",
              "       [-4.38450973e-01, -1.33746024e+00,  1.27636178e-01,\n",
              "         1.33225943e-01],\n",
              "       [-4.38450973e-01, -1.09111299e+00,  3.59701956e-01,\n",
              "         1.75297293e-03],\n",
              "       [ 3.06088415e-01, -1.05724025e-01,  4.75734846e-01,\n",
              "         2.64698913e-01],\n",
              "       [-6.61812789e-02, -1.09111299e+00,  1.27636178e-01,\n",
              "         1.75297293e-03],\n",
              "       [-1.05890046e+00, -1.83015472e+00, -2.78478934e-01,\n",
              "        -2.61192967e-01],\n",
              "       [-3.14361075e-01, -8.44765752e-01,  3.30693734e-01,\n",
              "         1.33225943e-01],\n",
              "       [-1.90271177e-01, -1.05724025e-01,  2.43669067e-01,\n",
              "         1.75297293e-03],\n",
              "       [-1.90271177e-01, -3.52071267e-01,  2.43669067e-01,\n",
              "         1.33225943e-01],\n",
              "       [ 4.30178313e-01, -3.52071267e-01,  3.01685512e-01,\n",
              "         1.33225943e-01],\n",
              "       [-9.34810564e-01, -1.05724025e-01, -4.52528268e-01,\n",
              "        -1.29719997e-01],\n",
              "       [-1.90271177e-01, -5.98418509e-01,  1.85652623e-01,\n",
              "         1.33225943e-01],\n",
              "       [ 5.54268211e-01,  6.33317702e-01,  1.28796507e+00,\n",
              "         1.71090158e+00],\n",
              "       [-6.61812789e-02, -8.44765752e-01,  7.65817068e-01,\n",
              "         9.22063763e-01],\n",
              "       [ 1.54698739e+00, -1.05724025e-01,  1.22994863e+00,\n",
              "         1.18500970e+00],\n",
              "       [ 5.54268211e-01, -3.52071267e-01,  1.05589929e+00,\n",
              "         7.90590793e-01],\n",
              "       [ 8.02448007e-01, -1.05724025e-01,  1.17193218e+00,\n",
              "         1.31648267e+00],\n",
              "       [ 2.16743688e+00, -1.05724025e-01,  1.63606374e+00,\n",
              "         1.18500970e+00],\n",
              "       [-6.61812789e-02, -1.33746024e+00,  4.17718401e-01,\n",
              "         6.59117823e-01],\n",
              "       [ 1.79516719e+00, -3.52071267e-01,  1.46201440e+00,\n",
              "         7.90590793e-01],\n",
              "       [ 1.05062780e+00, -1.33746024e+00,  1.17193218e+00,\n",
              "         7.90590793e-01],\n",
              "       [ 1.67107729e+00,  1.37235943e+00,  3.30693734e-01,\n",
              "         1.71090158e+00],\n",
              "       [ 8.02448007e-01,  3.86970460e-01,  7.65817068e-01,\n",
              "         1.05353673e+00],\n",
              "       [ 6.78358109e-01, -8.44765752e-01,  8.81849958e-01,\n",
              "         9.22063763e-01],\n",
              "       [ 1.17471770e+00, -1.05724025e-01,  9.97882847e-01,\n",
              "         1.18500970e+00],\n",
              "       [-1.90271177e-01, -1.33746024e+00,  7.07800624e-01,\n",
              "         1.05353673e+00],\n",
              "       [-6.61812789e-02, -5.98418509e-01,  7.65817068e-01,\n",
              "         1.57942861e+00],\n",
              "       [ 6.78358109e-01,  3.86970460e-01,  8.81849958e-01,\n",
              "         1.44795564e+00],\n",
              "       [ 8.02448007e-01, -1.05724025e-01,  9.97882847e-01,\n",
              "         7.90590793e-01],\n",
              "       [ 2.29152678e+00,  1.86505391e+00,  1.69408018e+00,\n",
              "         1.31648267e+00],\n",
              "       [ 2.29152678e+00, -1.09111299e+00,  1.81011307e+00,\n",
              "         1.44795564e+00],\n",
              "       [ 1.81998517e-01, -2.07650196e+00,  7.07800624e-01,\n",
              "         3.96171883e-01],\n",
              "       [ 1.29880760e+00,  3.86970460e-01,  1.11391574e+00,\n",
              "         1.44795564e+00],\n",
              "       [-3.14361075e-01, -5.98418509e-01,  6.49784179e-01,\n",
              "         1.05353673e+00],\n",
              "       [ 2.29152678e+00, -5.98418509e-01,  1.69408018e+00,\n",
              "         1.05353673e+00],\n",
              "       [ 5.54268211e-01, -8.44765752e-01,  6.49784179e-01,\n",
              "         7.90590793e-01],\n",
              "       [ 1.05062780e+00, -1.05724025e-01,  1.11391574e+00,\n",
              "         1.18500970e+00],\n",
              "       [ 1.67107729e+00,  3.86970460e-01,  1.28796507e+00,\n",
              "         7.90590793e-01],\n",
              "       [ 4.30178313e-01, -5.98418509e-01,  5.91767735e-01,\n",
              "         7.90590793e-01],\n",
              "       [ 3.06088415e-01, -1.05724025e-01,  6.49784179e-01,\n",
              "         7.90590793e-01],\n",
              "       [ 6.78358109e-01, -5.98418509e-01,  1.05589929e+00,\n",
              "         1.18500970e+00],\n",
              "       [ 1.67107729e+00, -1.05724025e-01,  1.17193218e+00,\n",
              "         5.27644853e-01],\n",
              "       [ 1.91925709e+00, -5.98418509e-01,  1.34598151e+00,\n",
              "         9.22063763e-01],\n",
              "       [ 2.53970658e+00,  1.86505391e+00,  1.52003085e+00,\n",
              "         1.05353673e+00],\n",
              "       [ 6.78358109e-01, -5.98418509e-01,  1.05589929e+00,\n",
              "         1.31648267e+00],\n",
              "       [ 5.54268211e-01, -5.98418509e-01,  7.65817068e-01,\n",
              "         3.96171883e-01],\n",
              "       [ 3.06088415e-01, -1.09111299e+00,  1.05589929e+00,\n",
              "         2.64698913e-01],\n",
              "       [ 2.29152678e+00, -1.05724025e-01,  1.34598151e+00,\n",
              "         1.44795564e+00],\n",
              "       [ 5.54268211e-01,  8.79664944e-01,  1.05589929e+00,\n",
              "         1.57942861e+00],\n",
              "       [ 6.78358109e-01,  1.40623217e-01,  9.97882847e-01,\n",
              "         7.90590793e-01],\n",
              "       [ 1.81998517e-01, -1.05724025e-01,  5.91767735e-01,\n",
              "         7.90590793e-01],\n",
              "       [ 1.29880760e+00,  1.40623217e-01,  9.39866402e-01,\n",
              "         1.18500970e+00],\n",
              "       [ 1.05062780e+00,  1.40623217e-01,  1.05589929e+00,\n",
              "         1.57942861e+00],\n",
              "       [-6.61812789e-02,  1.40623217e-01,  7.65817068e-01,\n",
              "         1.44795564e+00],\n",
              "       [-6.61812789e-02, -8.44765752e-01,  7.65817068e-01,\n",
              "         9.22063763e-01],\n",
              "       [ 1.17471770e+00,  3.86970460e-01,  1.22994863e+00,\n",
              "         1.44795564e+00],\n",
              "       [ 1.05062780e+00,  6.33317702e-01,  1.11391574e+00,\n",
              "         1.71090158e+00],\n",
              "       [ 1.05062780e+00, -1.05724025e-01,  8.23833513e-01,\n",
              "         1.44795564e+00],\n",
              "       [ 5.54268211e-01, -1.33746024e+00,  7.07800624e-01,\n",
              "         9.22063763e-01],\n",
              "       [ 8.02448007e-01, -1.05724025e-01,  3.30693734e-01,\n",
              "         1.05353673e+00],\n",
              "       [ 4.30178313e-01,  8.79664944e-01,  9.39866402e-01,\n",
              "         1.44795564e+00],\n",
              "       [ 5.79086190e-02, -1.05724025e-01,  7.65817068e-01,\n",
              "         7.90590793e-01]])"
            ]
          },
          "metadata": {},
          "execution_count": 35
        }
      ]
    },
    {
      "cell_type": "code",
      "source": [
        "# Encoding\n",
        "#label encoding\n",
        "from sklearn.preprocessing import LabelEncoder\n",
        "le=LabelEncoder()\n",
        "data['Classification']=le.fit_transform(data['Classification'])\n",
        "data.head()"
      ],
      "metadata": {
        "id": "MzICZ_wwfR2y",
        "colab": {
          "base_uri": "https://localhost:8080/",
          "height": 206
        },
        "outputId": "e0f0c389-971b-455d-d720-1fc983ecd783"
      },
      "execution_count": 36,
      "outputs": [
        {
          "output_type": "execute_result",
          "data": {
            "text/plain": [
              "    SL   SW   PL   PW  Classification\n",
              "0  5.1  3.5  1.4  0.2               0\n",
              "1  4.9  3.0  1.4  0.2               0\n",
              "2  5.8  3.2  1.3  0.2               0\n",
              "3  4.6  3.1  1.5  0.2               0\n",
              "4  5.0  3.6  1.4  0.2               0"
            ],
            "text/html": [
              "\n",
              "  <div id=\"df-a201db91-ab2e-4156-95e5-6b0271ed514a\" class=\"colab-df-container\">\n",
              "    <div>\n",
              "<style scoped>\n",
              "    .dataframe tbody tr th:only-of-type {\n",
              "        vertical-align: middle;\n",
              "    }\n",
              "\n",
              "    .dataframe tbody tr th {\n",
              "        vertical-align: top;\n",
              "    }\n",
              "\n",
              "    .dataframe thead th {\n",
              "        text-align: right;\n",
              "    }\n",
              "</style>\n",
              "<table border=\"1\" class=\"dataframe\">\n",
              "  <thead>\n",
              "    <tr style=\"text-align: right;\">\n",
              "      <th></th>\n",
              "      <th>SL</th>\n",
              "      <th>SW</th>\n",
              "      <th>PL</th>\n",
              "      <th>PW</th>\n",
              "      <th>Classification</th>\n",
              "    </tr>\n",
              "  </thead>\n",
              "  <tbody>\n",
              "    <tr>\n",
              "      <th>0</th>\n",
              "      <td>5.1</td>\n",
              "      <td>3.5</td>\n",
              "      <td>1.4</td>\n",
              "      <td>0.2</td>\n",
              "      <td>0</td>\n",
              "    </tr>\n",
              "    <tr>\n",
              "      <th>1</th>\n",
              "      <td>4.9</td>\n",
              "      <td>3.0</td>\n",
              "      <td>1.4</td>\n",
              "      <td>0.2</td>\n",
              "      <td>0</td>\n",
              "    </tr>\n",
              "    <tr>\n",
              "      <th>2</th>\n",
              "      <td>5.8</td>\n",
              "      <td>3.2</td>\n",
              "      <td>1.3</td>\n",
              "      <td>0.2</td>\n",
              "      <td>0</td>\n",
              "    </tr>\n",
              "    <tr>\n",
              "      <th>3</th>\n",
              "      <td>4.6</td>\n",
              "      <td>3.1</td>\n",
              "      <td>1.5</td>\n",
              "      <td>0.2</td>\n",
              "      <td>0</td>\n",
              "    </tr>\n",
              "    <tr>\n",
              "      <th>4</th>\n",
              "      <td>5.0</td>\n",
              "      <td>3.6</td>\n",
              "      <td>1.4</td>\n",
              "      <td>0.2</td>\n",
              "      <td>0</td>\n",
              "    </tr>\n",
              "  </tbody>\n",
              "</table>\n",
              "</div>\n",
              "    <div class=\"colab-df-buttons\">\n",
              "\n",
              "  <div class=\"colab-df-container\">\n",
              "    <button class=\"colab-df-convert\" onclick=\"convertToInteractive('df-a201db91-ab2e-4156-95e5-6b0271ed514a')\"\n",
              "            title=\"Convert this dataframe to an interactive table.\"\n",
              "            style=\"display:none;\">\n",
              "\n",
              "  <svg xmlns=\"http://www.w3.org/2000/svg\" height=\"24px\" viewBox=\"0 -960 960 960\">\n",
              "    <path d=\"M120-120v-720h720v720H120Zm60-500h600v-160H180v160Zm220 220h160v-160H400v160Zm0 220h160v-160H400v160ZM180-400h160v-160H180v160Zm440 0h160v-160H620v160ZM180-180h160v-160H180v160Zm440 0h160v-160H620v160Z\"/>\n",
              "  </svg>\n",
              "    </button>\n",
              "\n",
              "  <style>\n",
              "    .colab-df-container {\n",
              "      display:flex;\n",
              "      gap: 12px;\n",
              "    }\n",
              "\n",
              "    .colab-df-convert {\n",
              "      background-color: #E8F0FE;\n",
              "      border: none;\n",
              "      border-radius: 50%;\n",
              "      cursor: pointer;\n",
              "      display: none;\n",
              "      fill: #1967D2;\n",
              "      height: 32px;\n",
              "      padding: 0 0 0 0;\n",
              "      width: 32px;\n",
              "    }\n",
              "\n",
              "    .colab-df-convert:hover {\n",
              "      background-color: #E2EBFA;\n",
              "      box-shadow: 0px 1px 2px rgba(60, 64, 67, 0.3), 0px 1px 3px 1px rgba(60, 64, 67, 0.15);\n",
              "      fill: #174EA6;\n",
              "    }\n",
              "\n",
              "    .colab-df-buttons div {\n",
              "      margin-bottom: 4px;\n",
              "    }\n",
              "\n",
              "    [theme=dark] .colab-df-convert {\n",
              "      background-color: #3B4455;\n",
              "      fill: #D2E3FC;\n",
              "    }\n",
              "\n",
              "    [theme=dark] .colab-df-convert:hover {\n",
              "      background-color: #434B5C;\n",
              "      box-shadow: 0px 1px 3px 1px rgba(0, 0, 0, 0.15);\n",
              "      filter: drop-shadow(0px 1px 2px rgba(0, 0, 0, 0.3));\n",
              "      fill: #FFFFFF;\n",
              "    }\n",
              "  </style>\n",
              "\n",
              "    <script>\n",
              "      const buttonEl =\n",
              "        document.querySelector('#df-a201db91-ab2e-4156-95e5-6b0271ed514a button.colab-df-convert');\n",
              "      buttonEl.style.display =\n",
              "        google.colab.kernel.accessAllowed ? 'block' : 'none';\n",
              "\n",
              "      async function convertToInteractive(key) {\n",
              "        const element = document.querySelector('#df-a201db91-ab2e-4156-95e5-6b0271ed514a');\n",
              "        const dataTable =\n",
              "          await google.colab.kernel.invokeFunction('convertToInteractive',\n",
              "                                                    [key], {});\n",
              "        if (!dataTable) return;\n",
              "\n",
              "        const docLinkHtml = 'Like what you see? Visit the ' +\n",
              "          '<a target=\"_blank\" href=https://colab.research.google.com/notebooks/data_table.ipynb>data table notebook</a>'\n",
              "          + ' to learn more about interactive tables.';\n",
              "        element.innerHTML = '';\n",
              "        dataTable['output_type'] = 'display_data';\n",
              "        await google.colab.output.renderOutput(dataTable, element);\n",
              "        const docLink = document.createElement('div');\n",
              "        docLink.innerHTML = docLinkHtml;\n",
              "        element.appendChild(docLink);\n",
              "      }\n",
              "    </script>\n",
              "  </div>\n",
              "\n",
              "\n",
              "<div id=\"df-d9c8fbde-b8e2-4a4f-b274-b61a625d21b8\">\n",
              "  <button class=\"colab-df-quickchart\" onclick=\"quickchart('df-d9c8fbde-b8e2-4a4f-b274-b61a625d21b8')\"\n",
              "            title=\"Suggest charts\"\n",
              "            style=\"display:none;\">\n",
              "\n",
              "<svg xmlns=\"http://www.w3.org/2000/svg\" height=\"24px\"viewBox=\"0 0 24 24\"\n",
              "     width=\"24px\">\n",
              "    <g>\n",
              "        <path d=\"M19 3H5c-1.1 0-2 .9-2 2v14c0 1.1.9 2 2 2h14c1.1 0 2-.9 2-2V5c0-1.1-.9-2-2-2zM9 17H7v-7h2v7zm4 0h-2V7h2v10zm4 0h-2v-4h2v4z\"/>\n",
              "    </g>\n",
              "</svg>\n",
              "  </button>\n",
              "\n",
              "<style>\n",
              "  .colab-df-quickchart {\n",
              "      --bg-color: #E8F0FE;\n",
              "      --fill-color: #1967D2;\n",
              "      --hover-bg-color: #E2EBFA;\n",
              "      --hover-fill-color: #174EA6;\n",
              "      --disabled-fill-color: #AAA;\n",
              "      --disabled-bg-color: #DDD;\n",
              "  }\n",
              "\n",
              "  [theme=dark] .colab-df-quickchart {\n",
              "      --bg-color: #3B4455;\n",
              "      --fill-color: #D2E3FC;\n",
              "      --hover-bg-color: #434B5C;\n",
              "      --hover-fill-color: #FFFFFF;\n",
              "      --disabled-bg-color: #3B4455;\n",
              "      --disabled-fill-color: #666;\n",
              "  }\n",
              "\n",
              "  .colab-df-quickchart {\n",
              "    background-color: var(--bg-color);\n",
              "    border: none;\n",
              "    border-radius: 50%;\n",
              "    cursor: pointer;\n",
              "    display: none;\n",
              "    fill: var(--fill-color);\n",
              "    height: 32px;\n",
              "    padding: 0;\n",
              "    width: 32px;\n",
              "  }\n",
              "\n",
              "  .colab-df-quickchart:hover {\n",
              "    background-color: var(--hover-bg-color);\n",
              "    box-shadow: 0 1px 2px rgba(60, 64, 67, 0.3), 0 1px 3px 1px rgba(60, 64, 67, 0.15);\n",
              "    fill: var(--button-hover-fill-color);\n",
              "  }\n",
              "\n",
              "  .colab-df-quickchart-complete:disabled,\n",
              "  .colab-df-quickchart-complete:disabled:hover {\n",
              "    background-color: var(--disabled-bg-color);\n",
              "    fill: var(--disabled-fill-color);\n",
              "    box-shadow: none;\n",
              "  }\n",
              "\n",
              "  .colab-df-spinner {\n",
              "    border: 2px solid var(--fill-color);\n",
              "    border-color: transparent;\n",
              "    border-bottom-color: var(--fill-color);\n",
              "    animation:\n",
              "      spin 1s steps(1) infinite;\n",
              "  }\n",
              "\n",
              "  @keyframes spin {\n",
              "    0% {\n",
              "      border-color: transparent;\n",
              "      border-bottom-color: var(--fill-color);\n",
              "      border-left-color: var(--fill-color);\n",
              "    }\n",
              "    20% {\n",
              "      border-color: transparent;\n",
              "      border-left-color: var(--fill-color);\n",
              "      border-top-color: var(--fill-color);\n",
              "    }\n",
              "    30% {\n",
              "      border-color: transparent;\n",
              "      border-left-color: var(--fill-color);\n",
              "      border-top-color: var(--fill-color);\n",
              "      border-right-color: var(--fill-color);\n",
              "    }\n",
              "    40% {\n",
              "      border-color: transparent;\n",
              "      border-right-color: var(--fill-color);\n",
              "      border-top-color: var(--fill-color);\n",
              "    }\n",
              "    60% {\n",
              "      border-color: transparent;\n",
              "      border-right-color: var(--fill-color);\n",
              "    }\n",
              "    80% {\n",
              "      border-color: transparent;\n",
              "      border-right-color: var(--fill-color);\n",
              "      border-bottom-color: var(--fill-color);\n",
              "    }\n",
              "    90% {\n",
              "      border-color: transparent;\n",
              "      border-bottom-color: var(--fill-color);\n",
              "    }\n",
              "  }\n",
              "</style>\n",
              "\n",
              "  <script>\n",
              "    async function quickchart(key) {\n",
              "      const quickchartButtonEl =\n",
              "        document.querySelector('#' + key + ' button');\n",
              "      quickchartButtonEl.disabled = true;  // To prevent multiple clicks.\n",
              "      quickchartButtonEl.classList.add('colab-df-spinner');\n",
              "      try {\n",
              "        const charts = await google.colab.kernel.invokeFunction(\n",
              "            'suggestCharts', [key], {});\n",
              "      } catch (error) {\n",
              "        console.error('Error during call to suggestCharts:', error);\n",
              "      }\n",
              "      quickchartButtonEl.classList.remove('colab-df-spinner');\n",
              "      quickchartButtonEl.classList.add('colab-df-quickchart-complete');\n",
              "    }\n",
              "    (() => {\n",
              "      let quickchartButtonEl =\n",
              "        document.querySelector('#df-d9c8fbde-b8e2-4a4f-b274-b61a625d21b8 button');\n",
              "      quickchartButtonEl.style.display =\n",
              "        google.colab.kernel.accessAllowed ? 'block' : 'none';\n",
              "    })();\n",
              "  </script>\n",
              "</div>\n",
              "\n",
              "    </div>\n",
              "  </div>\n"
            ],
            "application/vnd.google.colaboratory.intrinsic+json": {
              "type": "dataframe",
              "variable_name": "data",
              "summary": "{\n  \"name\": \"data\",\n  \"rows\": 150,\n  \"fields\": [\n    {\n      \"column\": \"SL\",\n      \"properties\": {\n        \"dtype\": \"number\",\n        \"std\": 0.8085671033540743,\n        \"min\": 4.3,\n        \"max\": 7.9,\n        \"num_unique_values\": 35,\n        \"samples\": [\n          6.4,\n          4.5,\n          6.7\n        ],\n        \"semantic_type\": \"\",\n        \"description\": \"\"\n      }\n    },\n    {\n      \"column\": \"SW\",\n      \"properties\": {\n        \"dtype\": \"number\",\n        \"std\": 0.4072909782888957,\n        \"min\": 2.0874999999999995,\n        \"max\": 3.9875,\n        \"num_unique_values\": 20,\n        \"samples\": [\n          3.5,\n          2.2,\n          2.7\n        ],\n        \"semantic_type\": \"\",\n        \"description\": \"\"\n      }\n    },\n    {\n      \"column\": \"PL\",\n      \"properties\": {\n        \"dtype\": \"number\",\n        \"std\": 1.7294236150430167,\n        \"min\": 1.0,\n        \"max\": 6.9,\n        \"num_unique_values\": 44,\n        \"samples\": [\n          6.7,\n          5.0,\n          3.8\n        ],\n        \"semantic_type\": \"\",\n        \"description\": \"\"\n      }\n    },\n    {\n      \"column\": \"PW\",\n      \"properties\": {\n        \"dtype\": \"number\",\n        \"std\": 0.7631607417008411,\n        \"min\": 0.1,\n        \"max\": 2.5,\n        \"num_unique_values\": 22,\n        \"samples\": [\n          0.2,\n          1.2,\n          1.3\n        ],\n        \"semantic_type\": \"\",\n        \"description\": \"\"\n      }\n    },\n    {\n      \"column\": \"Classification\",\n      \"properties\": {\n        \"dtype\": \"number\",\n        \"std\": 0,\n        \"min\": 0,\n        \"max\": 2,\n        \"num_unique_values\": 3,\n        \"samples\": [\n          0,\n          1,\n          2\n        ],\n        \"semantic_type\": \"\",\n        \"description\": \"\"\n      }\n    }\n  ]\n}"
            }
          },
          "metadata": {},
          "execution_count": 36
        }
      ]
    },
    {
      "cell_type": "code",
      "source": [
        "from sklearn.model_selection import train_test_split\n",
        "X_train,X_test,y_train,y_test=train_test_split(X, y, test_size=0.25, random_state=42)"
      ],
      "metadata": {
        "id": "T285c6RH9vKf"
      },
      "execution_count": 49,
      "outputs": []
    },
    {
      "cell_type": "markdown",
      "source": [
        "**K-Nearest Neighbour**"
      ],
      "metadata": {
        "id": "QhwOiHwpGmfn"
      }
    },
    {
      "cell_type": "code",
      "source": [
        "\n",
        "from sklearn.neighbors import KNeighborsClassifier\n",
        "from sklearn.metrics import confusion_matrix, accuracy_score, precision_score, recall_score, f1_score\n",
        "metric_k=[]\n",
        "neighbors=np.arange(1,15)\n",
        "for k in neighbors:\n",
        "  classifier=KNeighborsClassifier(n_neighbors=k,metric='minkowski',p=2) #if p=1 euclidian distance, p=2\n",
        "  classifier.fit(X_train,y_train)\n",
        "  y_pred=classifier.predict(X_test)\n",
        "  acc=accuracy_score(y_test,y_pred)\n",
        "  metric_k.append(acc)"
      ],
      "metadata": {
        "id": "Wzy8d9mcG69h"
      },
      "execution_count": 65,
      "outputs": []
    },
    {
      "cell_type": "code",
      "source": [
        "# plotting the accuracy graph to find out the max accuracy value to find out the best k\n",
        "plt.plot(neighbors,metric_k,'o-')\n",
        "plt.xlabel('k value')\n",
        "plt.ylabel('accuracy')\n",
        "plt.grid()"
      ],
      "metadata": {
        "colab": {
          "base_uri": "https://localhost:8080/",
          "height": 449
        },
        "id": "1cVoY4H8HFF2",
        "outputId": "9f655ff9-f7dc-4b79-a2b9-7c4a26e8a5de"
      },
      "execution_count": 66,
      "outputs": [
        {
          "output_type": "display_data",
          "data": {
            "text/plain": [
              "<Figure size 640x480 with 1 Axes>"
            ],
            "image/png": "[encoded data removed]"
          },
          "metadata": {}
        }
      ]
    },
    {
      "cell_type": "code",
      "source": [
        "classifier=KNeighborsClassifier(n_neighbors=5,metric='minkowski',p=2) #taking k value as 5\n",
        "classifier.fit(X_train,y_train)\n",
        "y_pred=classifier.predict(X_test)\n",
        "acc=accuracy_score(y_test,y_pred)"
      ],
      "metadata": {
        "id": "JKV2Ci80IRU5"
      },
      "execution_count": 77,
      "outputs": []
    },
    {
      "cell_type": "code",
      "source": [
        "print('Accuracy is', accuracy_score(y_test, y_pred))\n",
        "print('Precision is', precision_score(y_test, y_pred,average='weighted'))\n",
        "print('Recall is', recall_score(y_test, y_pred,average='weighted'))\n",
        "print('f1 score is', f1_score(y_test,y_pred,average='weighted'))"
      ],
      "metadata": {
        "colab": {
          "base_uri": "https://localhost:8080/"
        },
        "id": "CI7VStreIVq_",
        "outputId": "c0b1c5a2-a73a-4845-d499-7b5c7902114a"
      },
      "execution_count": 78,
      "outputs": [
        {
          "output_type": "stream",
          "name": "stdout",
          "text": [
            "Accuracy is 1.0\n",
            "Precision is 1.0\n",
            "Recall is 1.0\n",
            "f1 score is 1.0\n"
          ]
        }
      ]
    },
    {
      "cell_type": "markdown",
      "source": [
        "**SVM**"
      ],
      "metadata": {
        "id": "fFFjountIzzE"
      }
    },
    {
      "cell_type": "code",
      "source": [
        "from sklearn.svm import  SVC # importing\n",
        "sv_clf=SVC(kernel='linear')\n",
        "sv_clf.fit(X_train,y_train) #training"
      ],
      "metadata": {
        "colab": {
          "base_uri": "https://localhost:8080/",
          "height": 74
        },
        "id": "J3T1GyzEI2Bb",
        "outputId": "6b77ff57-09a8-4999-9196-c458383acfc4"
      },
      "execution_count": 75,
      "outputs": [
        {
          "output_type": "execute_result",
          "data": {
            "text/plain": [
              "SVC(kernel='linear')"
            ],
            "text/html": [
              "<style>#sk-container-id-2 {color: black;}#sk-container-id-2 pre{padding: 0;}#sk-container-id-2 div.sk-toggleable {background-color: white;}#sk-container-id-2 label.sk-toggleable__label {cursor: pointer;display: block;width: 100%;margin-bottom: 0;padding: 0.3em;box-sizing: border-box;text-align: center;}#sk-container-id-2 label.sk-toggleable__label-arrow:before {content: \"▸\";float: left;margin-right: 0.25em;color: #696969;}#sk-container-id-2 label.sk-toggleable__label-arrow:hover:before {color: black;}#sk-container-id-2 div.sk-estimator:hover label.sk-toggleable__label-arrow:before {color: black;}#sk-container-id-2 div.sk-toggleable__content {max-height: 0;max-width: 0;overflow: hidden;text-align: left;background-color: #f0f8ff;}#sk-container-id-2 div.sk-toggleable__content pre {margin: 0.2em;color: black;border-radius: 0.25em;background-color: #f0f8ff;}#sk-container-id-2 input.sk-toggleable__control:checked~div.sk-toggleable__content {max-height: 200px;max-width: 100%;overflow: auto;}#sk-container-id-2 input.sk-toggleable__control:checked~label.sk-toggleable__label-arrow:before {content: \"▾\";}#sk-container-id-2 div.sk-estimator input.sk-toggleable__control:checked~label.sk-toggleable__label {background-color: #d4ebff;}#sk-container-id-2 div.sk-label input.sk-toggleable__control:checked~label.sk-toggleable__label {background-color: #d4ebff;}#sk-container-id-2 input.sk-hidden--visually {border: 0;clip: rect(1px 1px 1px 1px);clip: rect(1px, 1px, 1px, 1px);height: 1px;margin: -1px;overflow: hidden;padding: 0;position: absolute;width: 1px;}#sk-container-id-2 div.sk-estimator {font-family: monospace;background-color: #f0f8ff;border: 1px dotted black;border-radius: 0.25em;box-sizing: border-box;margin-bottom: 0.5em;}#sk-container-id-2 div.sk-estimator:hover {background-color: #d4ebff;}#sk-container-id-2 div.sk-parallel-item::after {content: \"\";width: 100%;border-bottom: 1px solid gray;flex-grow: 1;}#sk-container-id-2 div.sk-label:hover label.sk-toggleable__label {background-color: #d4ebff;}#sk-container-id-2 div.sk-serial::before {content: \"\";position: absolute;border-left: 1px solid gray;box-sizing: border-box;top: 0;bottom: 0;left: 50%;z-index: 0;}#sk-container-id-2 div.sk-serial {display: flex;flex-direction: column;align-items: center;background-color: white;padding-right: 0.2em;padding-left: 0.2em;position: relative;}#sk-container-id-2 div.sk-item {position: relative;z-index: 1;}#sk-container-id-2 div.sk-parallel {display: flex;align-items: stretch;justify-content: center;background-color: white;position: relative;}#sk-container-id-2 div.sk-item::before, #sk-container-id-2 div.sk-parallel-item::before {content: \"\";position: absolute;border-left: 1px solid gray;box-sizing: border-box;top: 0;bottom: 0;left: 50%;z-index: -1;}#sk-container-id-2 div.sk-parallel-item {display: flex;flex-direction: column;z-index: 1;position: relative;background-color: white;}#sk-container-id-2 div.sk-parallel-item:first-child::after {align-self: flex-end;width: 50%;}#sk-container-id-2 div.sk-parallel-item:last-child::after {align-self: flex-start;width: 50%;}#sk-container-id-2 div.sk-parallel-item:only-child::after {width: 0;}#sk-container-id-2 div.sk-dashed-wrapped {border: 1px dashed gray;margin: 0 0.4em 0.5em 0.4em;box-sizing: border-box;padding-bottom: 0.4em;background-color: white;}#sk-container-id-2 div.sk-label label {font-family: monospace;font-weight: bold;display: inline-block;line-height: 1.2em;}#sk-container-id-2 div.sk-label-container {text-align: center;}#sk-container-id-2 div.sk-container {/* jupyter's `normalize.less` sets `[hidden] { display: none; }` but bootstrap.min.css set `[hidden] { display: none !important; }` so we also need the `!important` here to be able to override the default hidden behavior on the sphinx rendered scikit-learn.org. See: https://github.com/scikit-learn/scikit-learn/issues/21755 */display: inline-block !important;position: relative;}#sk-container-id-2 div.sk-text-repr-fallback {display: none;}</style><div id=\"sk-container-id-2\" class=\"sk-top-container\"><div class=\"sk-text-repr-fallback\"><pre>SVC(kernel=&#x27;linear&#x27;)</pre><b>In a Jupyter environment, please rerun this cell to show the HTML representation or trust the notebook. <br />On GitHub, the HTML representation is unable to render, please try loading this page with nbviewer.org.</b></div><div class=\"sk-container\" hidden><div class=\"sk-item\"><div class=\"sk-estimator sk-toggleable\"><input class=\"sk-toggleable__control sk-hidden--visually\" id=\"sk-estimator-id-2\" type=\"checkbox\" checked><label for=\"sk-estimator-id-2\" class=\"sk-toggleable__label sk-toggleable__label-arrow\">SVC</label><div class=\"sk-toggleable__content\"><pre>SVC(kernel=&#x27;linear&#x27;)</pre></div></div></div></div></div>"
            ]
          },
          "metadata": {},
          "execution_count": 75
        }
      ]
    },
    {
      "cell_type": "code",
      "source": [
        "print('Accuracy is', accuracy_score(y_test, y_pred))\n",
        "print('Precision is', precision_score(y_test, y_pred,average='weighted'))\n",
        "print('Recall is', recall_score(y_test, y_pred,average='weighted'))\n",
        "print('f1 score is', f1_score(y_test,y_pred,average='weighted'))"
      ],
      "metadata": {
        "colab": {
          "base_uri": "https://localhost:8080/"
        },
        "id": "cKMObyKTI_t8",
        "outputId": "ec0c5ce6-6f8e-4db7-8c92-dbf4be88f57a"
      },
      "execution_count": 76,
      "outputs": [
        {
          "output_type": "stream",
          "name": "stdout",
          "text": [
            "Accuracy is 1.0\n",
            "Precision is 1.0\n",
            "Recall is 1.0\n",
            "f1 score is 1.0\n"
          ]
        }
      ]
    },
    {
      "cell_type": "markdown",
      "source": [
        "**Decision Tree**"
      ],
      "metadata": {
        "id": "1oSMmKa-JDct"
      }
    },
    {
      "cell_type": "code",
      "source": [
        "from sklearn.tree import DecisionTreeClassifier # imoorting the decision tree\n",
        "dt_clf=DecisionTreeClassifier(random_state=42) #\n",
        "dt_clf.fit(X_train,y_train) # training\n",
        "y_pred=dt_clf.predict(X_test) # predicting"
      ],
      "metadata": {
        "id": "09SQb3YhJRD7"
      },
      "execution_count": 71,
      "outputs": []
    },
    {
      "cell_type": "code",
      "source": [
        "#checking the accuracy\n",
        "print('Accuracy is', accuracy_score(y_test, y_pred))\n",
        "print('Precision is', precision_score(y_test, y_pred,average='weighted'))\n",
        "print('Recall is', recall_score(y_test, y_pred,average='weighted'))\n",
        "print('f1 score is', f1_score(y_test,y_pred,average='weighted'))"
      ],
      "metadata": {
        "colab": {
          "base_uri": "https://localhost:8080/"
        },
        "id": "GqKyZybrJULy",
        "outputId": "112c9ca2-9f18-4065-826a-1df2ac8bb612"
      },
      "execution_count": 72,
      "outputs": [
        {
          "output_type": "stream",
          "name": "stdout",
          "text": [
            "Accuracy is 1.0\n",
            "Precision is 1.0\n",
            "Recall is 1.0\n",
            "f1 score is 1.0\n"
          ]
        }
      ]
    },
    {
      "cell_type": "markdown",
      "source": [
        "**Random forest**"
      ],
      "metadata": {
        "id": "tYXPE7G2JYaq"
      }
    },
    {
      "cell_type": "code",
      "source": [
        "from sklearn.ensemble import RandomForestClassifier # importing the random classifier\n",
        "rf_clf = RandomForestClassifier()\n",
        "rf_clf.fit(X_train,y_train) # training\n",
        "y_pred=rf_clf.predict(X_test) # predicting"
      ],
      "metadata": {
        "id": "Y_HTOks8Jk1U"
      },
      "execution_count": 73,
      "outputs": []
    },
    {
      "cell_type": "code",
      "source": [
        "# checking the accuracy\n",
        "print('Accuracy is', accuracy_score(y_test, y_pred))\n",
        "print('Precision is', precision_score(y_test, y_pred,average='weighted'))\n",
        "print('Recall is', recall_score(y_test, y_pred,average='weighted'))\n",
        "print('f1 score is', f1_score(y_test,y_pred,average='weighted'))"
      ],
      "metadata": {
        "colab": {
          "base_uri": "https://localhost:8080/"
        },
        "id": "xIYijMUPJu5E",
        "outputId": "f8e79f10-b085-47c8-bc9f-6e19dbe95fe9"
      },
      "execution_count": 74,
      "outputs": [
        {
          "output_type": "stream",
          "name": "stdout",
          "text": [
            "Accuracy is 1.0\n",
            "Precision is 1.0\n",
            "Recall is 1.0\n",
            "f1 score is 1.0\n"
          ]
        }
      ]
    },
    {
      "cell_type": "markdown",
      "source": [
        "All the models gave the same accuracy.So performance of all the models seems to be same"
      ],
      "metadata": {
        "id": "3kExyMskaVEe"
      }
    }
  ]
}